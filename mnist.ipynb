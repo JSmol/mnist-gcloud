{
 "metadata": {
  "language_info": {
   "codemirror_mode": {
    "name": "ipython",
    "version": 3
   },
   "file_extension": ".py",
   "mimetype": "text/x-python",
   "name": "python",
   "nbconvert_exporter": "python",
   "pygments_lexer": "ipython3",
   "version": "3.9.1-final"
  },
  "orig_nbformat": 2,
  "kernelspec": {
   "name": "python3",
   "display_name": "Python 3"
  }
 },
 "nbformat": 4,
 "nbformat_minor": 2,
 "cells": [
  {
   "source": [
    "# Kaggle MNIST digits"
   ],
   "cell_type": "markdown",
   "metadata": {}
  },
  {
   "cell_type": "code",
   "execution_count": 1,
   "metadata": {},
   "outputs": [],
   "source": [
    "import numpy as np\n",
    "import pandas as pd\n",
    "import matplotlib.pyplot as plt\n",
    "\n",
    "import torch\n",
    "from torch import nn\n",
    "from torch import optim\n",
    "from torch.utils.data import DataLoader\n",
    "from torchvision import transforms\n",
    "\n",
    "datadir = 'data/'"
   ]
  },
  {
   "cell_type": "code",
   "execution_count": 2,
   "metadata": {},
   "outputs": [],
   "source": [
    "# Reminder Conv2d args: (in, out, kern, stride, padding)\n",
    "model = nn.Sequential(\n",
    "    nn.Conv2d(1, 32, 4, 2, 1, bias=False),\n",
    "    nn.BatchNorm2d(32),\n",
    "    nn.LeakyReLU(),\n",
    "    nn.Conv2d(32, 64, 4, 2, 1, bias=False),\n",
    "    nn.BatchNorm2d(64),\n",
    "    nn.Flatten(),\n",
    "    nn.Linear(64 * 7 * 7, 10),\n",
    "    nn.ReLU(),\n",
    ")"
   ]
  },
  {
   "cell_type": "code",
   "execution_count": 3,
   "metadata": {},
   "outputs": [],
   "source": [
    "def train(model, loader, epochs, lr):\n",
    "    criterion = nn.CrossEntropyLoss()\n",
    "    optimizer = optim.Adam(model.parameters(), lr=lr)\n",
    "    for epoch in range(epochs):\n",
    "        for imgs, labels in loader:\n",
    "            optimizer.zero_grad()\n",
    "            pred = model(imgs.reshape(-1, 1, 28, 28))\n",
    "            loss = criterion(pred, labels)\n",
    "            loss.backward()\n",
    "            optimizer.step()\n",
    "\n",
    "def evaluate(model, loader):\n",
    "    with torch.no_grad():\n",
    "        total = 0\n",
    "        for imgs, labels in loader:\n",
    "            pred = model(imgs.reshape(-1, 1, 28, 28))\n",
    "            total += (pred.argmax(dim=1) == labels).sum()\n",
    "        print(total.item() / 7000)"
   ]
  },
  {
   "cell_type": "code",
   "execution_count": 4,
   "metadata": {},
   "outputs": [],
   "source": [
    "train_dataset = pd.read_csv(f'{datadir}/train.csv')\n",
    "labels = torch.tensor(train_dataset.pop('label').to_numpy(), dtype=torch.int64)\n",
    "imgs = torch.tensor(train_dataset.to_numpy() / 255, dtype=torch.float32)\n",
    "train_loader = DataLoader(list(zip(imgs[:35000], labels[:35000])), batch_size=10, shuffle=True)\n",
    "eval_loader = DataLoader(list(zip(imgs[35000:], labels[35000:])), batch_size=10, shuffle=False)"
   ]
  },
  {
   "cell_type": "code",
   "execution_count": 5,
   "metadata": {},
   "outputs": [
    {
     "output_type": "stream",
     "name": "stdout",
     "text": [
      "0.08271428571428571\n",
      "0.9624285714285714\n",
      "0.9715714285714285\n"
     ]
    }
   ],
   "source": [
    "evaluate(model, eval_loader)\n",
    "train(model, train_loader, 1, 0.0001)\n",
    "evaluate(model, eval_loader)\n",
    "train(model, train_loader, 5, 0.0001)\n",
    "evaluate(model, eval_loader)"
   ]
  },
  {
   "cell_type": "code",
   "execution_count": null,
   "metadata": {},
   "outputs": [],
   "source": []
  }
 ]
}